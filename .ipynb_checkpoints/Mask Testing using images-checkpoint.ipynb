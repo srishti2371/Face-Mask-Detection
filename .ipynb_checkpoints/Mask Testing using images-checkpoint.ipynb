{
 "cells": [
  {
   "cell_type": "code",
   "execution_count": 1,
   "metadata": {},
   "outputs": [],
   "source": [
    "from tensorflow.keras.applications.mobilenet_v2 import preprocess_input\n",
    "from tensorflow.keras.preprocessing.image import img_to_array\n",
    "from tensorflow.keras.models import load_model\n",
    "import numpy as np\n",
    "import cv2\n",
    "import os"
   ]
  },
  {
   "cell_type": "code",
   "execution_count": 2,
   "metadata": {},
   "outputs": [],
   "source": [
    "prototxtPath=os.path.sep.join([r'C:\\Users\\shali\\Desktop\\Mask-Detection-and-Recognition\\Mask-Detection-and-Recognition\\face detector model','deploy.prototxt'])\n",
    "weightsPath=os.path.sep.join([r'C:\\Users\\shali\\Desktop\\Mask-Detection-and-Recognition\\Mask-Detection-and-Recognition\\face detector model','res10_300x300_ssd_iter_140000.caffemodel'])\n"
   ]
  },
  {
   "cell_type": "code",
   "execution_count": 3,
   "metadata": {},
   "outputs": [
    {
     "data": {
      "text/plain": [
       "'C:\\\\Users\\\\shali\\\\Desktop\\\\Mask-Detection-and-Recognition\\\\Mask-Detection-and-Recognition\\\\face detector model\\\\deploy.prototxt'"
      ]
     },
     "execution_count": 3,
     "metadata": {},
     "output_type": "execute_result"
    }
   ],
   "source": [
    "prototxtPath"
   ]
  },
  {
   "cell_type": "code",
   "execution_count": 4,
   "metadata": {},
   "outputs": [
    {
     "data": {
      "text/plain": [
       "'C:\\\\Users\\\\shali\\\\Desktop\\\\Mask-Detection-and-Recognition\\\\Mask-Detection-and-Recognition\\\\face detector model\\\\res10_300x300_ssd_iter_140000.caffemodel'"
      ]
     },
     "execution_count": 4,
     "metadata": {},
     "output_type": "execute_result"
    }
   ],
   "source": [
    "weightsPath"
   ]
  },
  {
   "cell_type": "code",
   "execution_count": 5,
   "metadata": {},
   "outputs": [],
   "source": [
    "net=cv2.dnn.readNet(prototxtPath,weightsPath)"
   ]
  },
  {
   "cell_type": "code",
   "execution_count": 6,
   "metadata": {},
   "outputs": [],
   "source": [
    "model=load_model(r'C:\\Users\\shali\\Desktop\\Mask-Detection-and-Recognition\\Mask-Detection-and-Recognition\\mobilenet_v2.model')"
   ]
  },
  {
   "cell_type": "code",
   "execution_count": 17,
   "metadata": {},
   "outputs": [],
   "source": [
    "image=cv2.imread(r'C:\\Users\\shali\\Desktop\\Mask-Detection-and-Recognition\\Mask-Detection-and-Recognition\\Examples for testing\\images10.png')"
   ]
  },
  {
   "cell_type": "code",
   "execution_count": 18,
   "metadata": {},
   "outputs": [
    {
     "data": {
      "text/plain": [
       "array([[[243, 238, 237],\n",
       "        [243, 238, 237],\n",
       "        [243, 238, 237],\n",
       "        ...,\n",
       "        [243, 238, 237],\n",
       "        [243, 238, 237],\n",
       "        [243, 238, 237]],\n",
       "\n",
       "       [[243, 238, 237],\n",
       "        [243, 238, 237],\n",
       "        [243, 238, 237],\n",
       "        ...,\n",
       "        [243, 238, 237],\n",
       "        [243, 238, 237],\n",
       "        [243, 238, 237]],\n",
       "\n",
       "       [[243, 238, 237],\n",
       "        [243, 238, 237],\n",
       "        [243, 238, 237],\n",
       "        ...,\n",
       "        [243, 238, 237],\n",
       "        [243, 238, 237],\n",
       "        [243, 238, 237]],\n",
       "\n",
       "       ...,\n",
       "\n",
       "       [[ 67,  58,  48],\n",
       "        [ 72,  64,  51],\n",
       "        [ 79,  70,  57],\n",
       "        ...,\n",
       "        [239, 233, 228],\n",
       "        [239, 232, 229],\n",
       "        [237, 232, 231]],\n",
       "\n",
       "       [[ 71,  62,  52],\n",
       "        [ 76,  68,  55],\n",
       "        [ 83,  74,  61],\n",
       "        ...,\n",
       "        [239, 233, 228],\n",
       "        [239, 232, 229],\n",
       "        [237, 232, 231]],\n",
       "\n",
       "       [[ 75,  66,  56],\n",
       "        [ 80,  72,  59],\n",
       "        [ 86,  77,  64],\n",
       "        ...,\n",
       "        [239, 233, 228],\n",
       "        [239, 232, 229],\n",
       "        [237, 232, 231]]], dtype=uint8)"
      ]
     },
     "execution_count": 18,
     "metadata": {},
     "output_type": "execute_result"
    }
   ],
   "source": [
    "image"
   ]
  },
  {
   "cell_type": "code",
   "execution_count": 19,
   "metadata": {},
   "outputs": [],
   "source": [
    "(h,w)=image.shape[:2]"
   ]
  },
  {
   "cell_type": "code",
   "execution_count": 20,
   "metadata": {},
   "outputs": [
    {
     "data": {
      "text/plain": [
       "(260, 194)"
      ]
     },
     "execution_count": 20,
     "metadata": {},
     "output_type": "execute_result"
    }
   ],
   "source": [
    "(h,w)"
   ]
  },
  {
   "cell_type": "code",
   "execution_count": 21,
   "metadata": {},
   "outputs": [],
   "source": [
    "blob=cv2.dnn.blobFromImage(image,1.0,(300,300),(104.0,177.0,123.0))"
   ]
  },
  {
   "cell_type": "code",
   "execution_count": 22,
   "metadata": {},
   "outputs": [
    {
     "data": {
      "text/plain": [
       "array([[[[ 139.,  139.,  139., ...,  139.,  139.,  139.],\n",
       "         [ 139.,  139.,  139., ...,  139.,  139.,  139.],\n",
       "         [ 139.,  139.,  139., ...,  139.,  139.,  139.],\n",
       "         ...,\n",
       "         [ -36.,  -34.,  -30., ...,  135.,  134.,  133.],\n",
       "         [ -32.,  -30.,  -27., ...,  135.,  134.,  133.],\n",
       "         [ -29.,  -27.,  -23., ...,  135.,  134.,  133.]],\n",
       "\n",
       "        [[  61.,   61.,   61., ...,   61.,   61.,   61.],\n",
       "         [  61.,   61.,   61., ...,   61.,   61.,   61.],\n",
       "         [  61.,   61.,   61., ...,   61.,   61.,   61.],\n",
       "         ...,\n",
       "         [-118., -115., -111., ...,   55.,   55.,   55.],\n",
       "         [-114., -111., -108., ...,   55.,   55.,   55.],\n",
       "         [-111., -108., -105., ...,   55.,   55.,   55.]],\n",
       "\n",
       "        [[ 114.,  114.,  114., ...,  114.,  114.,  114.],\n",
       "         [ 114.,  114.,  114., ...,  114.,  114.,  114.],\n",
       "         [ 114.,  114.,  114., ...,  114.,  114.,  114.],\n",
       "         ...,\n",
       "         [ -74.,  -72.,  -70., ...,  106.,  107.,  108.],\n",
       "         [ -70.,  -69.,  -67., ...,  106.,  107.,  108.],\n",
       "         [ -67.,  -66.,  -64., ...,  106.,  107.,  108.]]]], dtype=float32)"
      ]
     },
     "execution_count": 22,
     "metadata": {},
     "output_type": "execute_result"
    }
   ],
   "source": [
    "blob"
   ]
  },
  {
   "cell_type": "code",
   "execution_count": 23,
   "metadata": {},
   "outputs": [
    {
     "data": {
      "text/plain": [
       "(1, 3, 300, 300)"
      ]
     },
     "execution_count": 23,
     "metadata": {},
     "output_type": "execute_result"
    }
   ],
   "source": [
    "blob.shape"
   ]
  },
  {
   "cell_type": "code",
   "execution_count": 24,
   "metadata": {},
   "outputs": [],
   "source": [
    "net.setInput(blob)\n",
    "detections=net.forward()"
   ]
  },
  {
   "cell_type": "code",
   "execution_count": 25,
   "metadata": {},
   "outputs": [
    {
     "data": {
      "text/plain": [
       "array([[[[0.        , 1.        , 0.99997663, ..., 0.17931426,\n",
       "          0.6610578 , 0.49512386],\n",
       "         [0.        , 1.        , 0.12097044, ..., 4.004629  ,\n",
       "          4.8407154 , 4.98273   ],\n",
       "         [0.        , 1.        , 0.11658723, ..., 4.0091987 ,\n",
       "          0.83342874, 4.9886928 ],\n",
       "         ...,\n",
       "         [0.        , 0.        , 0.        , ..., 0.        ,\n",
       "          0.        , 0.        ],\n",
       "         [0.        , 0.        , 0.        , ..., 0.        ,\n",
       "          0.        , 0.        ],\n",
       "         [0.        , 0.        , 0.        , ..., 0.        ,\n",
       "          0.        , 0.        ]]]], dtype=float32)"
      ]
     },
     "execution_count": 25,
     "metadata": {},
     "output_type": "execute_result"
    }
   ],
   "source": [
    "detections"
   ]
  },
  {
   "cell_type": "code",
   "execution_count": 26,
   "metadata": {},
   "outputs": [],
   "source": [
    "#loop over the detections\n",
    "for i in range(0,detections.shape[2]):\n",
    "    confidence=detections[0,0,i,2]\n",
    "    \n",
    "    \n",
    "    if confidence>0.5:\n",
    "        #we need the X,Y coordinates\n",
    "        box=detections[0,0,i,3:7]*np.array([w,h,w,h])\n",
    "        (startX,startY,endX,endY)=box.astype('int')\n",
    "        \n",
    "        #ensure the bounding boxes fall within the dimensions of the frame\n",
    "        (startX,startY)=(max(0,startX),max(0,startY))\n",
    "        (endX,endY)=(min(w-1,endX), min(h-1,endY))\n",
    "        \n",
    "        \n",
    "        #extract the face ROI, convert it from BGR to RGB channel, resize it to 224,224 and preprocess it\n",
    "        face=image[startY:endY, startX:endX]\n",
    "        face=cv2.cvtColor(face,cv2.COLOR_BGR2RGB)\n",
    "        face=cv2.resize(face,(224,224))\n",
    "        face=img_to_array(face)\n",
    "        face=preprocess_input(face)\n",
    "        face=np.expand_dims(face,axis=0)\n",
    "        \n",
    "        (mask,withoutMask)=model.predict(face)[0]\n",
    "        \n",
    "        #determine the class label and color we will use to draw the bounding box and text\n",
    "        label='Mask' if mask>withoutMask else 'No Mask'\n",
    "        color=(0,255,0) if label=='Mask' else (0,0,255)\n",
    "        \n",
    "        #include the probability in the label\n",
    "        label=\"{}: {:.2f}%\".format(label,max(mask,withoutMask)*100)\n",
    "        \n",
    "        #display the label and bounding boxes\n",
    "        cv2.putText(image,label,(startX,startY-10),cv2.FONT_HERSHEY_SIMPLEX,0.45,color,2)\n",
    "        cv2.rectangle(image,(startX,startY),(endX,endY),color,2)\n",
    "        \n",
    "        \n",
    "        \n",
    "cv2.imshow(\"OutPut\",image)\n",
    "cv2.waitKey(0)\n",
    "cv2.destroyAllWindows()"
   ]
  },
  {
   "cell_type": "code",
   "execution_count": null,
   "metadata": {},
   "outputs": [],
   "source": []
  }
 ],
 "metadata": {
  "kernelspec": {
   "display_name": "Python 3 (ipykernel)",
   "language": "python",
   "name": "python3"
  },
  "language_info": {
   "codemirror_mode": {
    "name": "ipython",
    "version": 3
   },
   "file_extension": ".py",
   "mimetype": "text/x-python",
   "name": "python",
   "nbconvert_exporter": "python",
   "pygments_lexer": "ipython3",
   "version": "3.9.7"
  }
 },
 "nbformat": 4,
 "nbformat_minor": 2
}
